{
 "cells": [
  {
   "cell_type": "code",
   "execution_count": null,
   "metadata": {
    "colab": {
     "base_uri": "https://localhost:8080/"
    },
    "id": "AMckUz3r6vz3",
    "outputId": "572d42cc-8df0-4e2a-b360-1ce5faf4dce2"
   },
   "outputs": [
    {
     "name": "stdout",
     "output_type": "stream",
     "text": [
      "Collecting astrapy\n",
      "  Downloading astrapy-1.5.2-py3-none-any.whl.metadata (19 kB)\n",
      "Collecting deprecation<2.2.0,>=2.1.0 (from astrapy)\n",
      "  Downloading deprecation-2.1.0-py2.py3-none-any.whl.metadata (4.6 kB)\n",
      "Requirement already satisfied: httpx<1,>=0.25.2 in /usr/local/lib/python3.10/dist-packages (from httpx[http2]<1,>=0.25.2->astrapy) (0.27.2)\n",
      "Collecting pymongo>=3 (from astrapy)\n",
      "  Downloading pymongo-4.10.1-cp310-cp310-manylinux_2_17_x86_64.manylinux2014_x86_64.whl.metadata (22 kB)\n",
      "Requirement already satisfied: toml<0.11.0,>=0.10.2 in /usr/local/lib/python3.10/dist-packages (from astrapy) (0.10.2)\n",
      "Collecting uuid6>=2024.1.12 (from astrapy)\n",
      "  Downloading uuid6-2024.7.10-py3-none-any.whl.metadata (8.6 kB)\n",
      "Requirement already satisfied: packaging in /usr/local/lib/python3.10/dist-packages (from deprecation<2.2.0,>=2.1.0->astrapy) (24.2)\n",
      "Requirement already satisfied: anyio in /usr/local/lib/python3.10/dist-packages (from httpx<1,>=0.25.2->httpx[http2]<1,>=0.25.2->astrapy) (3.7.1)\n",
      "Requirement already satisfied: certifi in /usr/local/lib/python3.10/dist-packages (from httpx<1,>=0.25.2->httpx[http2]<1,>=0.25.2->astrapy) (2024.8.30)\n",
      "Requirement already satisfied: httpcore==1.* in /usr/local/lib/python3.10/dist-packages (from httpx<1,>=0.25.2->httpx[http2]<1,>=0.25.2->astrapy) (1.0.7)\n",
      "Requirement already satisfied: idna in /usr/local/lib/python3.10/dist-packages (from httpx<1,>=0.25.2->httpx[http2]<1,>=0.25.2->astrapy) (3.10)\n",
      "Requirement already satisfied: sniffio in /usr/local/lib/python3.10/dist-packages (from httpx<1,>=0.25.2->httpx[http2]<1,>=0.25.2->astrapy) (1.3.1)\n",
      "Requirement already satisfied: h11<0.15,>=0.13 in /usr/local/lib/python3.10/dist-packages (from httpcore==1.*->httpx<1,>=0.25.2->httpx[http2]<1,>=0.25.2->astrapy) (0.14.0)\n",
      "Collecting h2<5,>=3 (from httpx[http2]<1,>=0.25.2->astrapy)\n",
      "  Downloading h2-4.1.0-py3-none-any.whl.metadata (3.6 kB)\n",
      "Collecting dnspython<3.0.0,>=1.16.0 (from pymongo>=3->astrapy)\n",
      "  Downloading dnspython-2.7.0-py3-none-any.whl.metadata (5.8 kB)\n",
      "Collecting hyperframe<7,>=6.0 (from h2<5,>=3->httpx[http2]<1,>=0.25.2->astrapy)\n",
      "  Downloading hyperframe-6.0.1-py3-none-any.whl.metadata (2.7 kB)\n",
      "Collecting hpack<5,>=4.0 (from h2<5,>=3->httpx[http2]<1,>=0.25.2->astrapy)\n",
      "  Downloading hpack-4.0.0-py3-none-any.whl.metadata (2.5 kB)\n",
      "Requirement already satisfied: exceptiongroup in /usr/local/lib/python3.10/dist-packages (from anyio->httpx<1,>=0.25.2->httpx[http2]<1,>=0.25.2->astrapy) (1.2.2)\n",
      "Downloading astrapy-1.5.2-py3-none-any.whl (177 kB)\n",
      "\u001b[2K   \u001b[90m━━━━━━━━━━━━━━━━━━━━━━━━━━━━━━━━━━━━━━━━\u001b[0m \u001b[32m177.1/177.1 kB\u001b[0m \u001b[31m4.6 MB/s\u001b[0m eta \u001b[36m0:00:00\u001b[0m\n",
      "\u001b[?25hDownloading deprecation-2.1.0-py2.py3-none-any.whl (11 kB)\n",
      "Downloading pymongo-4.10.1-cp310-cp310-manylinux_2_17_x86_64.manylinux2014_x86_64.whl (1.4 MB)\n",
      "\u001b[2K   \u001b[90m━━━━━━━━━━━━━━━━━━━━━━━━━━━━━━━━━━━━━━━━\u001b[0m \u001b[32m1.4/1.4 MB\u001b[0m \u001b[31m29.1 MB/s\u001b[0m eta \u001b[36m0:00:00\u001b[0m\n",
      "\u001b[?25hDownloading uuid6-2024.7.10-py3-none-any.whl (6.4 kB)\n",
      "Downloading dnspython-2.7.0-py3-none-any.whl (313 kB)\n",
      "\u001b[2K   \u001b[90m━━━━━━━━━━━━━━━━━━━━━━━━━━━━━━━━━━━━━━━━\u001b[0m \u001b[32m313.6/313.6 kB\u001b[0m \u001b[31m18.2 MB/s\u001b[0m eta \u001b[36m0:00:00\u001b[0m\n",
      "\u001b[?25hDownloading h2-4.1.0-py3-none-any.whl (57 kB)\n",
      "\u001b[2K   \u001b[90m━━━━━━━━━━━━━━━━━━━━━━━━━━━━━━━━━━━━━━━━\u001b[0m \u001b[32m57.5/57.5 kB\u001b[0m \u001b[31m3.3 MB/s\u001b[0m eta \u001b[36m0:00:00\u001b[0m\n",
      "\u001b[?25hDownloading hpack-4.0.0-py3-none-any.whl (32 kB)\n",
      "Downloading hyperframe-6.0.1-py3-none-any.whl (12 kB)\n",
      "Installing collected packages: uuid6, hyperframe, hpack, dnspython, deprecation, pymongo, h2, astrapy\n",
      "Successfully installed astrapy-1.5.2 deprecation-2.1.0 dnspython-2.7.0 h2-4.1.0 hpack-4.0.0 hyperframe-6.0.1 pymongo-4.10.1 uuid6-2024.7.10\n"
     ]
    }
   ],
   "source": [
    "pip install --upgrade astrapy"
   ]
  },
  {
   "cell_type": "code",
   "execution_count": null,
   "metadata": {
    "colab": {
     "base_uri": "https://localhost:8080/"
    },
    "id": "dI3EwDTLAixY",
    "outputId": "be0f02f6-d936-4123-ec32-c52b439687a4"
   },
   "outputs": [
    {
     "name": "stdout",
     "output_type": "stream",
     "text": [
      "Collecting cassandra-driver\n",
      "  Downloading cassandra_driver-3.29.2-cp310-cp310-manylinux_2_17_x86_64.manylinux2014_x86_64.whl.metadata (6.2 kB)\n",
      "Collecting geomet<0.3,>=0.1 (from cassandra-driver)\n",
      "  Downloading geomet-0.2.1.post1-py3-none-any.whl.metadata (1.0 kB)\n",
      "Requirement already satisfied: click in /usr/local/lib/python3.10/dist-packages (from geomet<0.3,>=0.1->cassandra-driver) (8.1.7)\n",
      "Requirement already satisfied: six in /usr/local/lib/python3.10/dist-packages (from geomet<0.3,>=0.1->cassandra-driver) (1.16.0)\n",
      "Downloading cassandra_driver-3.29.2-cp310-cp310-manylinux_2_17_x86_64.manylinux2014_x86_64.whl (3.9 MB)\n",
      "\u001b[2K   \u001b[90m━━━━━━━━━━━━━━━━━━━━━━━━━━━━━━━━━━━━━━━━\u001b[0m \u001b[32m3.9/3.9 MB\u001b[0m \u001b[31m30.9 MB/s\u001b[0m eta \u001b[36m0:00:00\u001b[0m\n",
      "\u001b[?25hDownloading geomet-0.2.1.post1-py3-none-any.whl (18 kB)\n",
      "Installing collected packages: geomet, cassandra-driver\n",
      "Successfully installed cassandra-driver-3.29.2 geomet-0.2.1.post1\n"
     ]
    }
   ],
   "source": [
    "!pip install cassandra-driver"
   ]
  },
  {
   "cell_type": "code",
   "execution_count": null,
   "metadata": {
    "colab": {
     "base_uri": "https://localhost:8080/"
    },
    "id": "QV4XRPjfHhoS",
    "outputId": "5d90aa1a-ed72-433b-931e-d679df376d1b"
   },
   "outputs": [
    {
     "name": "stderr",
     "output_type": "stream",
     "text": [
      "WARNING:cassandra.cluster:Downgrading core protocol version from 66 to 65 for 5fb0d364-fc1c-4d10-80e2-e694f8e99d2c-eu-west-1.db.astra.datastax.com:29042:00694036-11ec-39fb-8238-d79afd9b0e46. To avoid this, it is best practice to explicitly set Cluster(protocol_version) to the version supported by your cluster. http://datastax.github.io/python-driver/api/cassandra/cluster.html#cassandra.cluster.Cluster.protocol_version\n",
      "WARNING:cassandra.cluster:Downgrading core protocol version from 65 to 5 for 5fb0d364-fc1c-4d10-80e2-e694f8e99d2c-eu-west-1.db.astra.datastax.com:29042:00694036-11ec-39fb-8238-d79afd9b0e46. To avoid this, it is best practice to explicitly set Cluster(protocol_version) to the version supported by your cluster. http://datastax.github.io/python-driver/api/cassandra/cluster.html#cassandra.cluster.Cluster.protocol_version\n",
      "WARNING:cassandra.cluster:Downgrading core protocol version from 5 to 4 for 5fb0d364-fc1c-4d10-80e2-e694f8e99d2c-eu-west-1.db.astra.datastax.com:29042:00694036-11ec-39fb-8238-d79afd9b0e46. To avoid this, it is best practice to explicitly set Cluster(protocol_version) to the version supported by your cluster. http://datastax.github.io/python-driver/api/cassandra/cluster.html#cassandra.cluster.Cluster.protocol_version\n"
     ]
    },
    {
     "name": "stdout",
     "output_type": "stream",
     "text": [
      "Connected!\n"
     ]
    }
   ],
   "source": [
    "import json\n",
    "from cassandra.cluster import Cluster\n",
    "from cassandra.auth import PlainTextAuthProvider\n",
    "\n",
    "# Load credentials from JSON file\n",
    "with open(\"BDTAssignment-token.json\") as f:\n",
    "    secrets = json.load(f)\n",
    "\n",
    "CLIENT_ID = secrets[\"clientId\"]\n",
    "CLIENT_SECRET = secrets[\"secret\"]\n",
    "\n",
    "# Connect to Cassandra\n",
    "auth_provider = PlainTextAuthProvider(CLIENT_ID, CLIENT_SECRET)\n",
    "cloud_config = {\"secure_connect_bundle\": \"secure-connect-bdtassignment.zip\"}\n",
    "cluster = Cluster(cloud=cloud_config, auth_provider=auth_provider)\n",
    "session = cluster.connect()\n",
    "\n",
    "# Set keyspace\n",
    "session.set_keyspace('example')\n",
    "\n",
    "# Confirm connection\n",
    "if session:\n",
    "    print(\"Connected!\")\n",
    "else:\n",
    "    print(\"Connection failed.\")\n"
   ]
  },
  {
   "cell_type": "markdown",
   "metadata": {
    "id": "BzeeHPElKT5x"
   },
   "source": [
    "Bronze level table"
   ]
  },
  {
   "cell_type": "code",
   "execution_count": null,
   "metadata": {
    "colab": {
     "base_uri": "https://localhost:8080/"
    },
    "id": "wCDRrNU2Igtl",
    "outputId": "39a9514f-4811-4162-de6c-9d097e454471"
   },
   "outputs": [
    {
     "data": {
      "text/plain": [
       "<cassandra.cluster.ResultSet at 0x782304625030>"
      ]
     },
     "execution_count": 15,
     "metadata": {},
     "output_type": "execute_result"
    }
   ],
   "source": [
    "session.execute(\"\"\"\n",
    "CREATE TABLE IF NOT EXISTS bronze_sales (\n",
    "    region TEXT,\n",
    "    country TEXT,\n",
    "    item_type TEXT,\n",
    "    sales_channel TEXT,\n",
    "    order_priority TEXT,\n",
    "    order_date TEXT,\n",
    "    order_id TEXT PRIMARY KEY,\n",
    "    ship_date TEXT,\n",
    "    units_sold INT,\n",
    "    unit_price FLOAT,\n",
    "    unit_cost FLOAT,\n",
    "    total_revenue FLOAT,\n",
    "    total_cost FLOAT,\n",
    "    total_profit FLOAT\n",
    ")\n",
    "\"\"\")"
   ]
  },
  {
   "cell_type": "markdown",
   "metadata": {
    "id": "xNZKWy6OKcdV"
   },
   "source": [
    "silver level table"
   ]
  },
  {
   "cell_type": "code",
   "execution_count": null,
   "metadata": {
    "colab": {
     "base_uri": "https://localhost:8080/"
    },
    "id": "g-APuKWLKIo1",
    "outputId": "de536423-1e75-44db-c6fd-cc348575d29d"
   },
   "outputs": [
    {
     "data": {
      "text/plain": [
       "<cassandra.cluster.ResultSet at 0x7822df4b7ca0>"
      ]
     },
     "execution_count": 16,
     "metadata": {},
     "output_type": "execute_result"
    }
   ],
   "source": [
    "session.execute(\"\"\"\n",
    "CREATE TABLE IF NOT EXISTS silver_sales (\n",
    "    region TEXT,\n",
    "    country TEXT,\n",
    "    item_type TEXT,\n",
    "    sales_channel TEXT,\n",
    "    order_date TEXT,\n",
    "    order_id TEXT PRIMARY KEY,\n",
    "    units_sold INT,\n",
    "    total_profit FLOAT\n",
    ")\n",
    "\"\"\")\n"
   ]
  },
  {
   "cell_type": "markdown",
   "metadata": {
    "id": "JyBtNOVEKsbH"
   },
   "source": [
    "# golden level table"
   ]
  },
  {
   "cell_type": "markdown",
   "metadata": {
    "id": "V3m_J6FfK5BY"
   },
   "source": [
    "Profit by Region:"
   ]
  },
  {
   "cell_type": "code",
   "execution_count": null,
   "metadata": {
    "colab": {
     "base_uri": "https://localhost:8080/"
    },
    "id": "9xsg2-TyKhWN",
    "outputId": "4fd4ccc6-0b9d-4b10-f9f8-12eeaa6d6332"
   },
   "outputs": [
    {
     "data": {
      "text/plain": [
       "<cassandra.cluster.ResultSet at 0x7822df4b5840>"
      ]
     },
     "execution_count": 17,
     "metadata": {},
     "output_type": "execute_result"
    }
   ],
   "source": [
    "session.execute(\"\"\"\n",
    "CREATE TABLE IF NOT EXISTS gold_profit_by_region (\n",
    "    region TEXT PRIMARY KEY,\n",
    "    total_profit FLOAT\n",
    ")\n",
    "\"\"\")"
   ]
  },
  {
   "cell_type": "markdown",
   "metadata": {
    "id": "kyJUOlVPLC3N"
   },
   "source": [
    "Units Sold by Item Type:"
   ]
  },
  {
   "cell_type": "code",
   "execution_count": null,
   "metadata": {
    "colab": {
     "base_uri": "https://localhost:8080/"
    },
    "id": "jd9i10PXK-sG",
    "outputId": "f0ac1a94-eeaf-44ce-85d2-92e0b8bfd1c5"
   },
   "outputs": [
    {
     "data": {
      "text/plain": [
       "<cassandra.cluster.ResultSet at 0x7822df4b7a90>"
      ]
     },
     "execution_count": 18,
     "metadata": {},
     "output_type": "execute_result"
    }
   ],
   "source": [
    "session.execute(\"\"\"\n",
    "CREATE TABLE IF NOT EXISTS gold_units_by_item (\n",
    "    item_type TEXT PRIMARY KEY,\n",
    "    total_units_sold INT\n",
    ")\n",
    "\"\"\")"
   ]
  },
  {
   "cell_type": "markdown",
   "metadata": {
    "id": "frBsbFQkLHqM"
   },
   "source": [
    "Profit by Region and Item Type:"
   ]
  },
  {
   "cell_type": "code",
   "execution_count": null,
   "metadata": {
    "colab": {
     "base_uri": "https://localhost:8080/"
    },
    "id": "-f4u-B1fLGZC",
    "outputId": "aaf9c727-75bd-4c80-db47-30e922a6ab82"
   },
   "outputs": [
    {
     "data": {
      "text/plain": [
       "<cassandra.cluster.ResultSet at 0x782304625210>"
      ]
     },
     "execution_count": 19,
     "metadata": {},
     "output_type": "execute_result"
    }
   ],
   "source": [
    "session.execute(\"\"\"\n",
    "CREATE TABLE IF NOT EXISTS gold_profit_by_region_item (\n",
    "    region TEXT,\n",
    "    item_type TEXT,\n",
    "    total_profit FLOAT,\n",
    "    PRIMARY KEY (region, item_type)\n",
    ")\n",
    "\"\"\")"
   ]
  },
  {
   "cell_type": "markdown",
   "metadata": {
    "id": "up32OCJfLbDM"
   },
   "source": [
    "#load data"
   ]
  },
  {
   "cell_type": "markdown",
   "metadata": {
    "id": "UvM9z_2LLe0K"
   },
   "source": [
    "bronze\n"
   ]
  },
  {
   "cell_type": "code",
   "execution_count": null,
   "metadata": {
    "id": "96DBjm7JLN2d"
   },
   "outputs": [],
   "source": [
    "import pandas as pd\n",
    "\n",
    "# Load the CSV data\n",
    "csv_url = \"https://raw.githubusercontent.com/gchandra10/filestorage/main/sales_100.csv\"\n",
    "sales_data = pd.read_csv(csv_url)\n",
    "\n",
    "# Insert rows into the Bronze table\n",
    "for _, row in sales_data.iterrows():\n",
    "    session.execute(\"\"\"\n",
    "    INSERT INTO bronze_sales (\n",
    "        region, country, item_type, sales_channel, order_priority,\n",
    "        order_date, order_id, ship_date, units_sold, unit_price,\n",
    "        unit_cost, total_revenue, total_cost, total_profit\n",
    "    ) VALUES (%s, %s, %s, %s, %s, %s, %s, %s, %s, %s, %s, %s, %s, %s)\n",
    "    \"\"\", (\n",
    "        row['Region'], row['Country'], row['Item Type'], row['Sales Channel'], row['Order Priority'],\n",
    "        row['Order Date'], str(row['Order ID']), row['Ship Date'], int(row['UnitsSold']),\n",
    "        float(row['UnitPrice']), float(row['UnitCost']), float(row['TotalRevenue']),\n",
    "        float(row['TotalCost']), float(row['TotalProfit'])\n",
    "    ))\n"
   ]
  },
  {
   "cell_type": "markdown",
   "metadata": {
    "id": "4hmjrh9_SZQc"
   },
   "source": [
    "silver table"
   ]
  },
  {
   "cell_type": "code",
   "execution_count": null,
   "metadata": {
    "id": "EEKre1sMLpoZ"
   },
   "outputs": [],
   "source": [
    "# Select relevant columns for Silver Table\n",
    "silver_data = sales_data[['Region', 'Country', 'Item Type', 'Sales Channel',\n",
    "                          'Order Date', 'Order ID', 'UnitsSold', 'TotalProfit']]\n",
    "\n",
    "# Insert rows into the Silver table\n",
    "for _, row in silver_data.iterrows():\n",
    "    session.execute(\"\"\"\n",
    "    INSERT INTO silver_sales (\n",
    "        region, country, item_type, sales_channel,\n",
    "        order_date, order_id, units_sold, total_profit\n",
    "    ) VALUES (%s, %s, %s, %s, %s, %s, %s, %s)\n",
    "    \"\"\", (\n",
    "        row['Region'], row['Country'], row['Item Type'], row['Sales Channel'],\n",
    "        row['Order Date'], str(row['Order ID']), int(row['UnitsSold']), float(row['TotalProfit'])\n",
    "    ))\n"
   ]
  },
  {
   "cell_type": "markdown",
   "metadata": {
    "id": "nR5b3HdkSipF"
   },
   "source": [
    "#gold table"
   ]
  },
  {
   "cell_type": "markdown",
   "metadata": {
    "id": "coKveHDoSmUU"
   },
   "source": [
    "table 1"
   ]
  },
  {
   "cell_type": "code",
   "execution_count": null,
   "metadata": {
    "id": "kubIsy9iSbGv"
   },
   "outputs": [],
   "source": [
    "profit_by_region = sales_data.groupby('Region')['TotalProfit'].sum().reset_index()\n",
    "\n",
    "for _, row in profit_by_region.iterrows():\n",
    "    session.execute(\"\"\"\n",
    "    INSERT INTO gold_profit_by_region (\n",
    "        region, total_profit\n",
    "    ) VALUES (%s, %s)\n",
    "    \"\"\", (row['Region'], float(row['TotalProfit'])))\n"
   ]
  },
  {
   "cell_type": "markdown",
   "metadata": {
    "id": "SsyhfmsWSrDs"
   },
   "source": [
    "table 2"
   ]
  },
  {
   "cell_type": "code",
   "execution_count": null,
   "metadata": {
    "id": "yhK_YHWWSp3p"
   },
   "outputs": [],
   "source": [
    "units_by_item = sales_data.groupby('Item Type')['UnitsSold'].sum().reset_index()\n",
    "\n",
    "for _, row in units_by_item.iterrows():\n",
    "    session.execute(\"\"\"\n",
    "    INSERT INTO gold_units_by_item (\n",
    "        item_type, total_units_sold\n",
    "    ) VALUES (%s, %s)\n",
    "    \"\"\", (row['Item Type'], int(row['UnitsSold'])))\n"
   ]
  },
  {
   "cell_type": "markdown",
   "metadata": {
    "id": "47zmkOClSu7a"
   },
   "source": [
    "table 3"
   ]
  },
  {
   "cell_type": "code",
   "execution_count": null,
   "metadata": {
    "id": "fJLEIZ-ZStx3"
   },
   "outputs": [],
   "source": [
    "profit_by_region_item = sales_data.groupby(['Region', 'Item Type']).agg({\n",
    "    'TotalProfit': 'sum'\n",
    "}).reset_index()\n",
    "\n",
    "for _, row in profit_by_region_item.iterrows():\n",
    "    session.execute(\"\"\"\n",
    "    INSERT INTO gold_profit_by_region_item (\n",
    "        region, item_type, total_profit\n",
    "    ) VALUES (%s, %s, %s)\n",
    "    \"\"\", (row['Region'], row['Item Type'], float(row['TotalProfit'])))\n"
   ]
  },
  {
   "cell_type": "markdown",
   "metadata": {
    "id": "IHesUTcNS75J"
   },
   "source": [
    "#verify\n"
   ]
  },
  {
   "cell_type": "markdown",
   "metadata": {
    "id": "prWriKNXS-pU"
   },
   "source": [
    "bronze table"
   ]
  },
  {
   "cell_type": "code",
   "execution_count": null,
   "metadata": {
    "colab": {
     "base_uri": "https://localhost:8080/"
    },
    "id": "SOk1WPv5Sxhg",
    "outputId": "a28d854e-51d6-47b3-9aec-9556582dd16a"
   },
   "outputs": [
    {
     "name": "stdout",
     "output_type": "stream",
     "text": [
      "Row(order_id='940980136', country='New Zealand', item_type='Beverages', order_date='10/11/2012', order_priority='M', region='Australia and Oceania', sales_channel='Online', ship_date='11/4/2012', total_cost=184000.515625, total_profit=90640.078125, total_revenue=274640.59375, unit_cost=31.790000915527344, unit_price=47.45000076293945, units_sold=5788)\n",
      "Row(order_id='363086831', country='Mali', item_type='Household', order_date='8/19/2010', order_priority='M', region='Sub-Saharan Africa', sales_channel='Offline', ship_date='9/7/2010', total_cost=2169465.25, total_profit=715456.4375, total_revenue=2884921.5, unit_cost=502.5400085449219, unit_price=668.27001953125, units_sold=4317)\n",
      "Row(order_id='176461303', country='Singapore', item_type='Snacks', order_date='1/28/2013', order_priority='C', region='Asia', sales_channel='Online', ship_date='2/7/2013', total_cost=747949.4375, total_profit=423254.625, total_revenue=1171204.125, unit_cost=97.44000244140625, unit_price=152.5800018310547, units_sold=7676)\n",
      "Row(order_id='438011872', country='Dominica', item_type='Beverages', order_date='6/12/2012', order_priority='L', region='Central America and the Caribbean', sales_channel='Online', ship_date='7/18/2012', total_cost=200308.796875, total_profit=98673.65625, total_revenue=298982.4375, unit_cost=31.790000915527344, unit_price=47.45000076293945, units_sold=6301)\n",
      "Row(order_id='135178029', country='United Kingdom', item_type='Cosmetics', order_date='5/1/2015', order_priority='L', region='Europe', sales_channel='Online', ship_date='5/16/2015', total_cost=273336.53125, total_profit=180477.0625, total_revenue=453813.59375, unit_cost=263.3299865722656, unit_price=437.20001220703125, units_sold=1038)\n",
      "Row(order_id='488121116', country='The Bahamas', item_type='Fruits', order_date='6/18/2010', order_priority='L', region='Central America and the Caribbean', sales_channel='Offline', ship_date='6/30/2010', total_cost=32800.80078125, total_profit=11423.400390625, total_revenue=44224.19921875, unit_cost=6.920000076293945, unit_price=9.329999923706055, units_sold=4740)\n",
      "Row(order_id='845056617', country='Netherlands', item_type='Fruits', order_date='11/19/2016', order_priority='L', region='Europe', sales_channel='Online', ship_date='11/30/2016', total_cost=68418.0390625, total_profit=23827.669921875, total_revenue=92245.7109375, unit_cost=6.920000076293945, unit_price=9.329999923706055, units_sold=9887)\n",
      "Row(order_id='667593514', country='Morocco', item_type='Clothes', order_date='9/14/2013', order_priority='M', region='Middle East and North Africa', sales_channel='Online', ship_date='10/19/2013', total_cost=165258.234375, total_profit=338631.84375, total_revenue=503890.09375, unit_cost=35.84000015258789, unit_price=109.27999877929688, units_sold=4611)\n",
      "Row(order_id='425793445', country='Seychelles ', item_type='Beverages', order_date='1/18/2013', order_priority='M', region='Sub-Saharan Africa', sales_channel='Online', ship_date='2/16/2013', total_cost=18978.630859375, total_profit=9349.01953125, total_revenue=28327.650390625, unit_cost=31.790000915527344, unit_price=47.45000076293945, units_sold=597)\n",
      "Row(order_id='467399013', country='Monaco', item_type='Beverages', order_date='5/29/2016', order_priority='M', region='Europe', sales_channel='Offline', ship_date='6/14/2016', total_cost=82940.109375, total_profit=40856.94140625, total_revenue=123797.046875, unit_cost=31.790000915527344, unit_price=47.45000076293945, units_sold=2609)\n",
      "Row(order_id='529276502', country='Burundi', item_type='Beverages', order_date='3/9/2011', order_priority='H', region='Sub-Saharan Africa', sales_channel='Online', ship_date='4/9/2011', total_cost=112314.0703125, total_profit=55326.78125, total_revenue=167640.84375, unit_cost=31.790000915527344, unit_price=47.45000076293945, units_sold=3533)\n",
      "Row(order_id='146634709', country='Liberia', item_type='Baby Food', order_date='6/6/2015', order_priority='H', region='Sub-Saharan Africa', sales_channel='Offline', ship_date='6/12/2015', total_cost=211072.078125, total_profit=126918.640625, total_revenue=337990.71875, unit_cost=159.4199981689453, unit_price=255.27999877929688, units_sold=1324)\n",
      "Row(order_id='824714744', country='Dominican Republic', item_type='Baby Food', order_date='8/25/2011', order_priority='H', region='Central America and the Caribbean', sales_channel='Offline', ship_date='9/24/2011', total_cost=43681.078125, total_profit=26265.640625, total_revenue=69946.71875, unit_cost=159.4199981689453, unit_price=255.27999877929688, units_sold=274)\n",
      "Row(order_id='563681733', country='Togo', item_type='Cosmetics', order_date='9/8/2015', order_priority='M', region='Sub-Saharan Africa', sales_channel='Online', ship_date='9/9/2015', total_cost=1265564.0, total_profit=835619.25, total_revenue=2101183.25, unit_cost=263.3299865722656, unit_price=437.20001220703125, units_sold=4806)\n",
      "Row(order_id='678896129', country='Indonesia', item_type='Personal Care', order_date='10/22/2012', order_priority='L', region='Asia', sales_channel='Offline', ship_date='10/31/2012', total_cost=527371.0, total_profit=233208.359375, total_revenue=760579.375, unit_cost=56.66999816894531, unit_price=81.7300033569336, units_sold=9306)\n",
      "Row(order_id='434008300', country='Thailand', item_type='Fruits', order_date='9/30/2012', order_priority='C', region='Asia', sales_channel='Offline', ship_date='11/14/2012', total_cost=10760.599609375, total_profit=3747.550048828125, total_revenue=14508.150390625, unit_cost=6.920000076293945, unit_price=9.329999923706055, units_sold=1555)\n",
      "Row(order_id='156295812', country='East Timor', item_type='Cereal', order_date='12/7/2015', order_priority='M', region='Australia and Oceania', sales_channel='Offline', ship_date='12/30/2015', total_cost=30331.490234375, total_profit=22944.810546875, total_revenue=53276.30078125, unit_cost=117.11000061035156, unit_price=205.6999969482422, units_sold=259)\n",
      "Row(order_id='887409770', country='Italy', item_type='Cereal', order_date='11/30/2015', order_priority='C', region='Europe', sales_channel='Online', ship_date='12/5/2015', total_cost=366085.875, total_profit=276932.34375, total_revenue=643018.1875, unit_cost=117.11000061035156, unit_price=205.6999969482422, units_sold=3126)\n",
      "Row(order_id='761723172', country='Algeria', item_type='Cosmetics', order_date='2/18/2011', order_priority='M', region='Middle East and North Africa', sales_channel='Online', ship_date='2/24/2011', total_cost=2546137.75, total_profit=1681149.0, total_revenue=4227287.0, unit_cost=263.3299865722656, unit_price=437.20001220703125, units_sold=9669)\n",
      "Row(order_id='925136649', country='Serbia', item_type='Clothes', order_date='7/6/2016', order_priority='L', region='Europe', sales_channel='Offline', ship_date='7/13/2016', total_cost=263352.3125, total_profit=539637.125, total_revenue=802989.4375, unit_cost=35.84000015258789, unit_price=109.27999877929688, units_sold=7348)\n",
      "Row(order_id='571997869', country='Vanuatu', item_type='Fruits', order_date='11/3/2013', order_priority='C', region='Australia and Oceania', sales_channel='Online', ship_date='11/11/2013', total_cost=39686.19921875, total_profit=13821.349609375, total_revenue=53507.55078125, unit_cost=6.920000076293945, unit_price=9.329999923706055, units_sold=5735)\n",
      "Row(order_id='500371730', country='Pakistan', item_type='Meat', order_date='12/28/2013', order_priority='M', region='Middle East and North Africa', sales_channel='Online', ship_date='2/15/2014', total_cost=3635594.5, total_profit=570226.8125, total_revenue=4205821.5, unit_cost=364.69000244140625, unit_price=421.8900146484375, units_sold=9969)\n",
      "Row(order_id='757619178', country='Turkmenistan', item_type='Meat', order_date='4/30/2017', order_priority='M', region='Asia', sales_channel='Online', ship_date='5/14/2017', total_cost=1898576.125, total_profit=297783.1875, total_revenue=2196359.25, unit_cost=364.69000244140625, unit_price=421.8900146484375, units_sold=5206)\n",
      "Row(order_id='887124383', country='Greece', item_type='Cereal', order_date='8/22/2015', order_priority='H', region='Europe', sales_channel='Online', ship_date='10/8/2015', total_cost=1015812.125, total_profit=768429.6875, total_revenue=1784241.75, unit_cost=117.11000061035156, unit_price=205.6999969482422, units_sold=8674)\n",
      "Row(order_id='294530856', country='Italy', item_type='Cereal', order_date='11/15/2011', order_priority='M', region='Europe', sales_channel='Online', ship_date='12/28/2011', total_cost=829138.8125, total_profit=627217.1875, total_revenue=1456356.0, unit_cost=117.11000061035156, unit_price=205.6999969482422, units_sold=7080)\n",
      "Row(order_id='757257401', country='Finland', item_type='Household', order_date='1/15/2016', order_priority='H', region='Europe', sales_channel='Offline', ship_date='1/31/2016', total_cost=4094696.0, total_profit=1350368.0, total_revenue=5445064.0, unit_cost=502.5400085449219, unit_price=668.27001953125, units_sold=8148)\n",
      "Row(order_id='756839835', country='Romania', item_type='Beverages', order_date='2/19/2012', order_priority='M', region='Europe', sales_channel='Online', ship_date='3/13/2012', total_cost=145629.984375, total_profit=71738.4609375, total_revenue=217368.453125, unit_cost=31.790000915527344, unit_price=47.45000076293945, units_sold=4581)\n",
      "Row(order_id='498071897', country='Taiwan', item_type='Cereal', order_date='4/11/2010', order_priority='H', region='Asia', sales_channel='Online', ship_date='5/26/2010', total_cost=1100482.625, total_profit=832480.25, total_revenue=1932962.875, unit_cost=117.11000061035156, unit_price=205.6999969482422, units_sold=9397)\n",
      "Row(order_id='459386289', country='Kuwait', item_type='Household', order_date='6/13/2011', order_priority='C', region='Middle East and North Africa', sales_channel='Offline', ship_date='7/21/2011', total_cost=736723.625, total_profit=242960.1875, total_revenue=979683.8125, unit_cost=502.5400085449219, unit_price=668.27001953125, units_sold=1466)\n",
      "Row(order_id='880811536', country='Djibouti', item_type='Clothes', order_date='5/17/2017', order_priority='H', region='Sub-Saharan Africa', sales_channel='Offline', ship_date='7/2/2017', total_cost=20142.080078125, total_profit=41273.28125, total_revenue=61415.359375, unit_cost=35.84000015258789, unit_price=109.27999877929688, units_sold=562)\n",
      "Row(order_id='246248090', country='The Bahamas', item_type='Personal Care', order_date='1/19/2011', order_priority='C', region='Central America and the Caribbean', sales_channel='Online', ship_date='2/21/2011', total_cost=517793.78125, total_profit=228973.21875, total_revenue=746767.0, unit_cost=56.66999816894531, unit_price=81.7300033569336, units_sold=9137)\n",
      "Row(order_id='548299157', country='Sao Tome and Principe', item_type='Clothes', order_date='11/11/2015', order_priority='L', region='Sub-Saharan Africa', sales_channel='Offline', ship_date='12/28/2015', total_cost=98918.3984375, total_profit=202694.40625, total_revenue=301612.8125, unit_cost=35.84000015258789, unit_price=109.27999877929688, units_sold=2760)\n",
      "Row(order_id='485070693', country='Haiti', item_type='Office Supplies', order_date='12/31/2010', order_priority='C', region='Central America and the Caribbean', sales_channel='Online', ship_date='1/31/2011', total_cost=1077217.875, total_profit=259065.0, total_revenue=1336282.875, unit_cost=524.9600219726562, unit_price=651.2100219726562, units_sold=2052)\n",
      "Row(order_id='520480573', country='Indonesia', item_type='Household', order_date='9/28/2011', order_priority='C', region='Asia', sales_channel='Online', ship_date='9/28/2011', total_cost=313082.40625, total_profit=103249.7890625, total_revenue=416332.21875, unit_cost=502.5400085449219, unit_price=668.27001953125, units_sold=623)\n",
      "Row(order_id='314505374', country='Vietnam', item_type='Personal Care', order_date='4/4/2010', order_priority='M', region='Asia', sales_channel='Online', ship_date='5/6/2010', total_cost=452453.28125, total_profit=200079.046875, total_revenue=652532.3125, unit_cost=56.66999816894531, unit_price=81.7300033569336, units_sold=7984)\n",
      "Row(order_id='601245963', country='Ghana', item_type='Office Supplies', order_date='3/23/2017', order_priority='L', region='Sub-Saharan Africa', sales_channel='Online', ship_date='4/15/2017', total_cost=470364.15625, total_profit=113120.0, total_revenue=583484.1875, unit_cost=524.9600219726562, unit_price=651.2100219726562, units_sold=896)\n",
      "Row(order_id='494570004', country='Madagascar', item_type='Clothes', order_date='10/17/2016', order_priority='L', region='Sub-Saharan Africa', sales_channel='Online', ship_date='10/26/2016', total_cost=111462.3984375, total_profit=228398.40625, total_revenue=339860.8125, unit_cost=35.84000015258789, unit_price=109.27999877929688, units_sold=3110)\n",
      "Row(order_id='101328551', country='Solomon Islands', item_type='Household', order_date='12/17/2010', order_priority='M', region='Australia and Oceania', sales_channel='Online', ship_date='12/28/2010', total_cost=2123231.5, total_profit=700209.25, total_revenue=2823440.75, unit_cost=502.5400085449219, unit_price=668.27001953125, units_sold=4225)\n",
      "Row(order_id='830410039', country='Switzerland', item_type='Office Supplies', order_date='7/29/2014', order_priority='C', region='Europe', sales_channel='Offline', ship_date='8/27/2014', total_cost=2960249.5, total_profit=711923.75, total_revenue=3672173.25, unit_cost=524.9600219726562, unit_price=651.2100219726562, units_sold=5639)\n",
      "Row(order_id='104191863', country='Albania', item_type='Personal Care', order_date='2/6/2016', order_priority='M', region='Europe', sales_channel='Offline', ship_date='2/11/2016', total_cost=87441.8125, total_profit=38667.578125, total_revenue=126109.390625, unit_cost=56.66999816894531, unit_price=81.7300033569336, units_sold=1543)\n",
      "Row(order_id='642134416', country='Finland', item_type='Vegetables', order_date='10/9/2012', order_priority='C', region='Europe', sales_channel='Offline', ship_date='11/27/2012', total_cost=63469.140625, total_profit=44064.73828125, total_revenue=107533.8828125, unit_cost=90.93000030517578, unit_price=154.05999755859375, units_sold=698)\n",
      "Row(order_id='699160754', country='Rwanda', item_type='Fruits', order_date='9/5/2012', order_priority='L', region='Sub-Saharan Africa', sales_channel='Online', ship_date='9/15/2012', total_cost=41928.28125, total_profit=14602.1904296875, total_revenue=56530.46875, unit_cost=6.920000076293945, unit_price=9.329999923706055, units_sold=6059)\n",
      "Row(order_id='116205585', country='Turkmenistan', item_type='Vegetables', order_date='4/13/2015', order_priority='M', region='Asia', sales_channel='Online', ship_date='6/2/2015', total_cost=606503.125, total_profit=421077.09375, total_revenue=1027580.1875, unit_cost=90.93000030517578, unit_price=154.05999755859375, units_sold=6670)\n",
      "Row(order_id='156530129', country='Tanzania', item_type='Fruits', order_date='10/20/2014', order_priority='H', region='Sub-Saharan Africa', sales_channel='Offline', ship_date='11/29/2014', total_cost=66425.078125, total_profit=23133.58984375, total_revenue=89558.671875, unit_cost=6.920000076293945, unit_price=9.329999923706055, units_sold=9599)\n",
      "Row(order_id='791778934', country='Ghana', item_type='Clothes', order_date='11/2/2011', order_priority='M', region='Sub-Saharan Africa', sales_channel='Online', ship_date='12/1/2011', total_cost=137482.234375, total_profit=281715.84375, total_revenue=419198.09375, unit_cost=35.84000015258789, unit_price=109.27999877929688, units_sold=3836)\n",
      "Row(order_id='902511680', country='Montenegro', item_type='Clothes', order_date='9/4/2016', order_priority='M', region='Europe', sales_channel='Offline', ship_date='9/8/2016', total_cost=75873.28125, total_profit=155472.484375, total_revenue=231345.765625, unit_cost=35.84000015258789, unit_price=109.27999877929688, units_sold=2117)\n",
      "Row(order_id='180908620', country='Moldova ', item_type='Fruits', order_date='1/27/2013', order_priority='C', region='Europe', sales_channel='Online', ship_date='3/3/2013', total_cost=25853.119140625, total_profit=9003.759765625, total_revenue=34856.87890625, unit_cost=6.920000076293945, unit_price=9.329999923706055, units_sold=3736)\n",
      "Row(order_id='371502530', country='Israel', item_type='Beverages', order_date='9/8/2013', order_priority='H', region='Middle East and North Africa', sales_channel='Offline', ship_date='10/13/2013', total_cost=149699.109375, total_profit=73742.9375, total_revenue=223442.046875, unit_cost=31.790000915527344, unit_price=47.45000076293945, units_sold=4709)\n",
      "Row(order_id='343752610', country='Nicaragua', item_type='Baby Food', order_date='11/11/2016', order_priority='L', region='Central America and the Caribbean', sales_channel='Online', ship_date='11/16/2016', total_cost=460883.21875, total_profit=277131.25, total_revenue=738014.5, unit_cost=159.4199981689453, unit_price=255.27999877929688, units_sold=2891)\n",
      "Row(order_id='647164094', country='Papua New Guinea', item_type='Clothes', order_date='6/20/2011', order_priority='L', region='Australia and Oceania', sales_channel='Offline', ship_date='7/14/2011', total_cost=325857.28125, total_profit=667716.5, total_revenue=993573.75, unit_cost=35.84000015258789, unit_price=109.27999877929688, units_sold=9092)\n",
      "Row(order_id='739008080', country='Tanzania', item_type='Cosmetics', order_date='5/23/2016', order_priority='L', region='Sub-Saharan Africa', sales_channel='Offline', ship_date='5/24/2016', total_cost=2045547.5, total_profit=1350622.125, total_revenue=3396169.5, unit_cost=263.3299865722656, unit_price=437.20001220703125, units_sold=7768)\n",
      "Row(order_id='252889239', country='Thailand', item_type='Meat', order_date='2/4/2015', order_priority='C', region='Asia', sales_channel='Online', ship_date='2/19/2015', total_cost=1605000.75, total_profit=251737.203125, total_revenue=1856737.875, unit_cost=364.69000244140625, unit_price=421.8900146484375, units_sold=4401)\n",
      "Row(order_id='274930989', country='Dominica', item_type='Household', order_date='11/19/2011', order_priority='C', region='Central America and the Caribbean', sales_channel='Offline', ship_date='12/13/2011', total_cost=3539891.75, total_profit=1167402.125, total_revenue=4707294.0, unit_cost=502.5400085449219, unit_price=668.27001953125, units_sold=7044)\n",
      "Row(order_id='198927056', country='China', item_type='Office Supplies', order_date='2/10/2016', order_priority='M', region='Asia', sales_channel='Online', ship_date='3/29/2016', total_cost=3040043.25, total_profit=731113.75, total_revenue=3771157.0, unit_cost=524.9600219726562, unit_price=651.2100219726562, units_sold=5791)\n",
      "Row(order_id='443368995', country='South Africa', item_type='Fruits', order_date='7/27/2012', order_priority='M', region='Sub-Saharan Africa', sales_channel='Offline', ship_date='7/28/2012', total_cost=11023.5595703125, total_profit=3839.1298828125, total_revenue=14862.6904296875, unit_cost=6.920000076293945, unit_price=9.329999923706055, units_sold=1593)\n",
      "Row(order_id='572335612', country='Vanuatu', item_type='Cereal', order_date='6/20/2014', order_priority='C', region='Australia and Oceania', sales_channel='Offline', ship_date='8/5/2014', total_cost=665301.9375, total_profit=503279.78125, total_revenue=1168581.75, unit_cost=117.11000061035156, unit_price=205.6999969482422, units_sold=5681)\n",
      "Row(order_id='539471471', country='Uganda', item_type='Personal Care', order_date='6/19/2014', order_priority='M', region='Sub-Saharan Africa', sales_channel='Online', ship_date='7/21/2014', total_cost=25558.169921875, total_profit=11302.0595703125, total_revenue=36860.23046875, unit_cost=56.66999816894531, unit_price=81.7300033569336, units_sold=451)\n",
      "Row(order_id='153842341', country='Brunei', item_type='Cereal', order_date='5/28/2013', order_priority='L', region='Asia', sales_channel='Offline', ship_date='7/16/2013', total_cost=494438.40625, total_profit=374026.96875, total_revenue=868465.375, unit_cost=117.11000061035156, unit_price=205.6999969482422, units_sold=4222)\n",
      "Row(order_id='678230941', country='Iceland', item_type='Baby Food', order_date='10/2/2010', order_priority='M', region='Europe', sales_channel='Offline', ship_date='11/3/2010', total_cost=392492.03125, total_profit=236007.3125, total_revenue=628499.375, unit_cost=159.4199981689453, unit_price=255.27999877929688, units_sold=2462)\n",
      "Row(order_id='752525556', country='Albania', item_type='Baby Food', order_date='7/19/2012', order_priority='H', region='Europe', sales_channel='Offline', ship_date='8/13/2012', total_cost=1257823.75, total_profit=756335.375, total_revenue=2014159.25, unit_cost=159.4199981689453, unit_price=255.27999877929688, units_sold=7890)\n",
      "Row(order_id='440306556', country='India', item_type='Snacks', order_date='10/10/2012', order_priority='L', region='Asia', sales_channel='Online', ship_date='11/20/2012', total_cost=521206.5625, total_profit=294943.875, total_revenue=816150.4375, unit_cost=97.44000244140625, unit_price=152.5800018310547, units_sold=5349)\n",
      "Row(order_id='953361213', country='Zimbabwe', item_type='Office Supplies', order_date='3/28/2011', order_priority='C', region='Sub-Saharan Africa', sales_channel='Offline', ship_date='4/8/2011', total_cost=5051690.0, total_profit=1214903.75, total_revenue=6266594.0, unit_cost=524.9600219726562, unit_price=651.2100219726562, units_sold=9623)\n",
      "Row(order_id='659878194', country='Tanzania', item_type='Beverages', order_date='11/30/2016', order_priority='L', region='Sub-Saharan Africa', sales_channel='Online', ship_date='1/16/2017', total_cost=46922.0390625, total_profit=23114.16015625, total_revenue=70036.203125, unit_cost=31.790000915527344, unit_price=47.45000076293945, units_sold=1476)\n",
      "Row(order_id='830192887', country='Sri Lanka', item_type='Fruits', order_date='11/7/2011', order_priority='L', region='Asia', sales_channel='Online', ship_date='12/18/2011', total_cost=9542.6796875, total_profit=3323.389892578125, total_revenue=12866.0703125, unit_cost=6.920000076293945, unit_price=9.329999923706055, units_sold=1379)\n",
      "Row(order_id='747796285', country='Japan', item_type='Household', order_date='7/16/2014', order_priority='M', region='Asia', sales_channel='Offline', ship_date='7/24/2014', total_cost=4217818.0, total_profit=1390971.875, total_revenue=5608790.0, unit_cost=502.5400085449219, unit_price=668.27001953125, units_sold=8393)\n",
      "Row(order_id='190777862', country='United States of America', item_type='Personal Care', order_date='1/21/2016', order_priority='H', region='North America', sales_channel='Online', ship_date='2/19/2016', total_cost=241640.875, total_profit=106855.84375, total_revenue=348496.71875, unit_cost=56.66999816894531, unit_price=81.7300033569336, units_sold=4264)\n",
      "Row(order_id='315402734', country='Belize', item_type='Personal Care', order_date='6/14/2015', order_priority='H', region='Central America and the Caribbean', sales_channel='Online', ship_date='8/2/2015', total_cost=200215.109375, total_profit=88536.9765625, total_revenue=288752.09375, unit_cost=56.66999816894531, unit_price=81.7300033569336, units_sold=3533)\n",
      "Row(order_id='324669444', country='France', item_type='Cosmetics', order_date='12/7/2015', order_priority='M', region='Europe', sales_channel='Online', ship_date='1/18/2016', total_cost=1516254.125, total_profit=1001143.4375, total_revenue=2517397.5, unit_cost=263.3299865722656, unit_price=437.20001220703125, units_sold=5758)\n",
      "Row(order_id='937431466', country='Samoa ', item_type='Household', order_date='12/5/2016', order_priority='L', region='Australia and Oceania', sales_channel='Online', ship_date='12/8/2016', total_cost=2842868.75, total_profit=937534.625, total_revenue=3780403.5, unit_cost=502.5400085449219, unit_price=668.27001953125, units_sold=5657)\n",
      "Row(order_id='882908809', country='Egypt', item_type='Clothes', order_date='8/9/2016', order_priority='C', region='Middle East and North Africa', sales_channel='Online', ship_date='8/24/2016', total_cost=42721.28125, total_profit=87540.4765625, total_revenue=130261.7578125, unit_cost=35.84000015258789, unit_price=109.27999877929688, units_sold=1192)\n",
      "Row(order_id='479969346', country='Tunisia ', item_type='Cosmetics', order_date='7/1/2012', order_priority='H', region='Middle East and North Africa', sales_channel='Offline', ship_date='7/20/2012', total_cost=645158.5, total_profit=425981.5, total_revenue=1071140.0, unit_cost=263.3299865722656, unit_price=437.20001220703125, units_sold=2450)\n",
      "Row(order_id='425418365', country='United Arab Emirates', item_type='Office Supplies', order_date='6/23/2012', order_priority='M', region='Middle East and North Africa', sales_channel='Online', ship_date='7/6/2012', total_cost=5041191.0, total_profit=1212378.75, total_revenue=6253569.5, unit_cost=524.9600219726562, unit_price=651.2100219726562, units_sold=9603)\n",
      "Row(order_id='265081918', country='Sweden', item_type='Beverages', order_date='9/13/2012', order_priority='H', region='Europe', sales_channel='Online', ship_date='10/12/2012', total_cost=78998.1484375, total_profit=38915.1015625, total_revenue=117913.25, unit_cost=31.790000915527344, unit_price=47.45000076293945, units_sold=2485)\n",
      "Row(order_id='349235904', country='Mauritius ', item_type='Clothes', order_date='11/17/2012', order_priority='M', region='Sub-Saharan Africa', sales_channel='Offline', ship_date='12/2/2012', total_cost=197836.796875, total_profit=405388.8125, total_revenue=603225.625, unit_cost=35.84000015258789, unit_price=109.27999877929688, units_sold=5520)\n",
      "Row(order_id='732588374', country='Taiwan', item_type='Fruits', order_date='2/9/2014', order_priority='M', region='Asia', sales_channel='Offline', ship_date='2/23/2014', total_cost=55595.28125, total_profit=19361.939453125, total_revenue=74957.21875, unit_cost=6.920000076293945, unit_price=9.329999923706055, units_sold=8034)\n",
      "Row(order_id='835696351', country='Estonia', item_type='Household', order_date='9/1/2011', order_priority='H', region='Europe', sales_channel='Offline', ship_date='10/21/2011', total_cost=5013339.0, total_profit=1653322.5, total_revenue=6666661.5, unit_cost=502.5400085449219, unit_price=668.27001953125, units_sold=9976)\n",
      "Row(order_id='179137074', country='Nepal', item_type='Meat', order_date='2/21/2014', order_priority='H', region='Asia', sales_channel='Online', ship_date='3/14/2014', total_cost=3463096.25, total_profit=543171.1875, total_revenue=4006267.5, unit_cost=364.69000244140625, unit_price=421.8900146484375, units_sold=9496)\n",
      "Row(order_id='358570849', country='Oman', item_type='Cosmetics', order_date='11/29/2010', order_priority='H', region='Middle East and North Africa', sales_channel='Online', ship_date='12/28/2010', total_cost=2090050.25, total_profit=1380006.25, total_revenue=3470056.5, unit_cost=263.3299865722656, unit_price=437.20001220703125, units_sold=7937)\n",
      "Row(order_id='797385394', country='Italy', item_type='Office Supplies', order_date='3/29/2011', order_priority='H', region='Europe', sales_channel='Online', ship_date='4/11/2011', total_cost=1529208.5, total_profit=367766.25, total_revenue=1896974.75, unit_cost=524.9600219726562, unit_price=651.2100219726562, units_sold=2913)\n",
      "Row(order_id='862861335', country='The Gambia', item_type='Fruits', order_date='11/20/2011', order_priority='C', region='Sub-Saharan Africa', sales_channel='Online', ship_date='11/22/2011', total_cost=60197.078125, total_profit=20964.58984375, total_revenue=81161.671875, unit_cost=6.920000076293945, unit_price=9.329999923706055, units_sold=8699)\n",
      "Row(order_id='222504317', country='Belgium', item_type='Personal Care', order_date='11/1/2011', order_priority='H', region='Europe', sales_channel='Online', ship_date='11/20/2011', total_cost=160206.09375, total_profit=70844.6171875, total_revenue=231050.703125, unit_cost=56.66999816894531, unit_price=81.7300033569336, units_sold=2827)\n",
      "Row(order_id='450544869', country='Malawi', item_type='Meat', order_date='3/1/2016', order_priority='H', region='Sub-Saharan Africa', sales_channel='Offline', ship_date='3/12/2016', total_cost=1857730.875, total_profit=291376.8125, total_revenue=2149107.75, unit_cost=364.69000244140625, unit_price=421.8900146484375, units_sold=5094)\n",
      "Row(order_id='584356629', country='Democratic Republic of the Congo', item_type='Cosmetics', order_date='10/7/2012', order_priority='M', region='Sub-Saharan Africa', sales_channel='Online', ship_date='10/25/2012', total_cost=781300.125, total_profit=515872.28125, total_revenue=1297172.375, unit_cost=263.3299865722656, unit_price=437.20001220703125, units_sold=2967)\n",
      "Row(order_id='842238795', country='Uganda', item_type='Cosmetics', order_date='2/28/2015', order_priority='M', region='Sub-Saharan Africa', sales_channel='Online', ship_date='3/15/2015', total_cost=1588143.25, total_profit=1048610.0, total_revenue=2636753.25, unit_cost=263.3299865722656, unit_price=437.20001220703125, units_sold=6031)\n",
      "Row(order_id='286891067', country='Antigua and Barbuda ', item_type='Office Supplies', order_date='10/2/2011', order_priority='C', region='Central America and the Caribbean', sales_channel='Offline', ship_date='10/4/2011', total_cost=3305673.0, total_profit=794996.25, total_revenue=4100669.25, unit_cost=524.9600219726562, unit_price=651.2100219726562, units_sold=6297)\n",
      "Row(order_id='633134210', country='Romania', item_type='Cereal', order_date='4/16/2015', order_priority='M', region='Europe', sales_channel='Online', ship_date='4/18/2015', total_cost=859236.0625, total_profit=649984.8125, total_revenue=1509220.875, unit_cost=117.11000061035156, unit_price=205.6999969482422, units_sold=7337)\n",
      "Row(order_id='839094388', country='Tonga', item_type='Baby Food', order_date='5/11/2016', order_priority='L', region='Australia and Oceania', sales_channel='Online', ship_date='5/31/2016', total_cost=881752.0, total_profit=530201.6875, total_revenue=1411953.625, unit_cost=159.4199981689453, unit_price=255.27999877929688, units_sold=5531)\n",
      "Row(order_id='940995585', country='Papua New Guinea', item_type='Meat', order_date='5/15/2015', order_priority='M', region='Australia and Oceania', sales_channel='Offline', ship_date='6/4/2015', total_cost=131288.40625, total_profit=20592.0, total_revenue=151880.40625, unit_cost=364.69000244140625, unit_price=421.8900146484375, units_sold=360)\n",
      "Row(order_id='368977391', country='Canada', item_type='Cosmetics', order_date='5/9/2011', order_priority='H', region='North America', sales_channel='Online', ship_date='6/2/2011', total_cost=1965495.125, total_profit=1297765.625, total_revenue=3263260.75, unit_cost=263.3299865722656, unit_price=437.20001220703125, units_sold=7464)\n",
      "Row(order_id='807785928', country='Ethiopia', item_type='Cosmetics', order_date='7/7/2011', order_priority='M', region='Sub-Saharan Africa', sales_channel='Online', ship_date='7/25/2011', total_cost=174324.453125, total_profit=115101.9375, total_revenue=289426.40625, unit_cost=263.3299865722656, unit_price=437.20001220703125, units_sold=662)\n",
      "Row(order_id='731120240', country='Saint Lucia', item_type='Fruits', order_date='12/12/2015', order_priority='L', region='Central America and the Caribbean', sales_channel='Offline', ship_date='1/12/2016', total_cost=24780.51953125, total_profit=8630.2099609375, total_revenue=33410.73046875, unit_cost=6.920000076293945, unit_price=9.329999923706055, units_sold=3581)\n",
      "Row(order_id='496523940', country='Ghana', item_type='Fruits', order_date='5/29/2016', order_priority='M', region='Sub-Saharan Africa', sales_channel='Offline', ship_date='6/4/2016', total_cost=9155.16015625, total_profit=3188.429931640625, total_revenue=12343.58984375, unit_cost=6.920000076293945, unit_price=9.329999923706055, units_sold=1323)\n",
      "Row(order_id='573998582', country='Nicaragua', item_type='Household', order_date='10/28/2015', order_priority='C', region='Central America and the Caribbean', sales_channel='Online', ship_date='12/7/2015', total_cost=3915289.25, total_profit=1291202.375, total_revenue=5206491.5, unit_cost=502.5400085449219, unit_price=668.27001953125, units_sold=7791)\n",
      "Row(order_id='704205024', country='Lebanon', item_type='Meat', order_date='3/8/2017', order_priority='L', region='Middle East and North Africa', sales_channel='Online', ship_date='4/18/2017', total_cost=3198331.25, total_profit=501644.0, total_revenue=3699975.25, unit_cost=364.69000244140625, unit_price=421.8900146484375, units_sold=8770)\n",
      "Row(order_id='174590194', country='Slovakia', item_type='Beverages', order_date='10/26/2016', order_priority='L', region='Europe', sales_channel='Offline', ship_date='12/4/2016', total_cost=126301.671875, total_profit=62217.1796875, total_revenue=188518.84375, unit_cost=31.790000915527344, unit_price=47.45000076293945, units_sold=3973)\n",
      "Row(order_id='710296428', country='Kazakhstan', item_type='Snacks', order_date='9/8/2013', order_priority='L', region='Asia', sales_channel='Online', ship_date='10/25/2013', total_cost=131738.875, total_profit=74549.28125, total_revenue=206288.15625, unit_cost=97.44000244140625, unit_price=152.5800018310547, units_sold=1352)\n",
      "Row(order_id='955894076', country='Malaysia', item_type='Beverages', order_date='11/13/2014', order_priority='M', region='Asia', sales_channel='Online', ship_date='12/28/2014', total_cost=291005.65625, total_profit=143351.640625, total_revenue=434357.3125, unit_cost=31.790000915527344, unit_price=47.45000076293945, units_sold=9154)\n",
      "Row(order_id='726137769', country='Czech Republic', item_type='Cosmetics', order_date='3/22/2014', order_priority='H', region='Europe', sales_channel='Online', ship_date='4/26/2014', total_cost=2411312.75, total_profit=1592127.625, total_revenue=4003440.5, unit_cost=263.3299865722656, unit_price=437.20001220703125, units_sold=9157)\n",
      "Row(order_id='297876536', country='South Korea', item_type='Meat', order_date='3/16/2016', order_priority='L', region='Asia', sales_channel='Offline', ship_date='4/20/2016', total_cost=2604251.25, total_profit=408465.1875, total_revenue=3012716.5, unit_cost=364.69000244140625, unit_price=421.8900146484375, units_sold=7141)\n"
     ]
    }
   ],
   "source": [
    "rows = session.execute(\"SELECT * FROM bronze_sales\")\n",
    "for row in rows:\n",
    "    print(row)"
   ]
  },
  {
   "cell_type": "code",
   "execution_count": null,
   "metadata": {
    "colab": {
     "base_uri": "https://localhost:8080/"
    },
    "id": "4NCOJDgcTIaS",
    "outputId": "2b13d5c9-1b33-4b9e-c415-c21dd01c06dc"
   },
   "outputs": [
    {
     "name": "stdout",
     "output_type": "stream",
     "text": [
      "Row(order_id='940980136', country='New Zealand', item_type='Beverages', order_date='10/11/2012', region='Australia and Oceania', sales_channel='Online', total_profit=90640.078125, units_sold=5788)\n",
      "Row(order_id='363086831', country='Mali', item_type='Household', order_date='8/19/2010', region='Sub-Saharan Africa', sales_channel='Offline', total_profit=715456.4375, units_sold=4317)\n",
      "Row(order_id='176461303', country='Singapore', item_type='Snacks', order_date='1/28/2013', region='Asia', sales_channel='Online', total_profit=423254.625, units_sold=7676)\n",
      "Row(order_id='438011872', country='Dominica', item_type='Beverages', order_date='6/12/2012', region='Central America and the Caribbean', sales_channel='Online', total_profit=98673.65625, units_sold=6301)\n",
      "Row(order_id='135178029', country='United Kingdom', item_type='Cosmetics', order_date='5/1/2015', region='Europe', sales_channel='Online', total_profit=180477.0625, units_sold=1038)\n",
      "Row(order_id='488121116', country='The Bahamas', item_type='Fruits', order_date='6/18/2010', region='Central America and the Caribbean', sales_channel='Offline', total_profit=11423.400390625, units_sold=4740)\n",
      "Row(order_id='845056617', country='Netherlands', item_type='Fruits', order_date='11/19/2016', region='Europe', sales_channel='Online', total_profit=23827.669921875, units_sold=9887)\n",
      "Row(order_id='667593514', country='Morocco', item_type='Clothes', order_date='9/14/2013', region='Middle East and North Africa', sales_channel='Online', total_profit=338631.84375, units_sold=4611)\n",
      "Row(order_id='425793445', country='Seychelles ', item_type='Beverages', order_date='1/18/2013', region='Sub-Saharan Africa', sales_channel='Online', total_profit=9349.01953125, units_sold=597)\n",
      "Row(order_id='467399013', country='Monaco', item_type='Beverages', order_date='5/29/2016', region='Europe', sales_channel='Offline', total_profit=40856.94140625, units_sold=2609)\n",
      "Row(order_id='529276502', country='Burundi', item_type='Beverages', order_date='3/9/2011', region='Sub-Saharan Africa', sales_channel='Online', total_profit=55326.78125, units_sold=3533)\n",
      "Row(order_id='146634709', country='Liberia', item_type='Baby Food', order_date='6/6/2015', region='Sub-Saharan Africa', sales_channel='Offline', total_profit=126918.640625, units_sold=1324)\n",
      "Row(order_id='824714744', country='Dominican Republic', item_type='Baby Food', order_date='8/25/2011', region='Central America and the Caribbean', sales_channel='Offline', total_profit=26265.640625, units_sold=274)\n",
      "Row(order_id='563681733', country='Togo', item_type='Cosmetics', order_date='9/8/2015', region='Sub-Saharan Africa', sales_channel='Online', total_profit=835619.25, units_sold=4806)\n",
      "Row(order_id='678896129', country='Indonesia', item_type='Personal Care', order_date='10/22/2012', region='Asia', sales_channel='Offline', total_profit=233208.359375, units_sold=9306)\n",
      "Row(order_id='434008300', country='Thailand', item_type='Fruits', order_date='9/30/2012', region='Asia', sales_channel='Offline', total_profit=3747.550048828125, units_sold=1555)\n",
      "Row(order_id='156295812', country='East Timor', item_type='Cereal', order_date='12/7/2015', region='Australia and Oceania', sales_channel='Offline', total_profit=22944.810546875, units_sold=259)\n",
      "Row(order_id='887409770', country='Italy', item_type='Cereal', order_date='11/30/2015', region='Europe', sales_channel='Online', total_profit=276932.34375, units_sold=3126)\n",
      "Row(order_id='761723172', country='Algeria', item_type='Cosmetics', order_date='2/18/2011', region='Middle East and North Africa', sales_channel='Online', total_profit=1681149.0, units_sold=9669)\n",
      "Row(order_id='925136649', country='Serbia', item_type='Clothes', order_date='7/6/2016', region='Europe', sales_channel='Offline', total_profit=539637.125, units_sold=7348)\n",
      "Row(order_id='571997869', country='Vanuatu', item_type='Fruits', order_date='11/3/2013', region='Australia and Oceania', sales_channel='Online', total_profit=13821.349609375, units_sold=5735)\n",
      "Row(order_id='500371730', country='Pakistan', item_type='Meat', order_date='12/28/2013', region='Middle East and North Africa', sales_channel='Online', total_profit=570226.8125, units_sold=9969)\n",
      "Row(order_id='757619178', country='Turkmenistan', item_type='Meat', order_date='4/30/2017', region='Asia', sales_channel='Online', total_profit=297783.1875, units_sold=5206)\n",
      "Row(order_id='887124383', country='Greece', item_type='Cereal', order_date='8/22/2015', region='Europe', sales_channel='Online', total_profit=768429.6875, units_sold=8674)\n",
      "Row(order_id='294530856', country='Italy', item_type='Cereal', order_date='11/15/2011', region='Europe', sales_channel='Online', total_profit=627217.1875, units_sold=7080)\n",
      "Row(order_id='757257401', country='Finland', item_type='Household', order_date='1/15/2016', region='Europe', sales_channel='Offline', total_profit=1350368.0, units_sold=8148)\n",
      "Row(order_id='756839835', country='Romania', item_type='Beverages', order_date='2/19/2012', region='Europe', sales_channel='Online', total_profit=71738.4609375, units_sold=4581)\n",
      "Row(order_id='498071897', country='Taiwan', item_type='Cereal', order_date='4/11/2010', region='Asia', sales_channel='Online', total_profit=832480.25, units_sold=9397)\n",
      "Row(order_id='459386289', country='Kuwait', item_type='Household', order_date='6/13/2011', region='Middle East and North Africa', sales_channel='Offline', total_profit=242960.1875, units_sold=1466)\n",
      "Row(order_id='880811536', country='Djibouti', item_type='Clothes', order_date='5/17/2017', region='Sub-Saharan Africa', sales_channel='Offline', total_profit=41273.28125, units_sold=562)\n",
      "Row(order_id='246248090', country='The Bahamas', item_type='Personal Care', order_date='1/19/2011', region='Central America and the Caribbean', sales_channel='Online', total_profit=228973.21875, units_sold=9137)\n",
      "Row(order_id='548299157', country='Sao Tome and Principe', item_type='Clothes', order_date='11/11/2015', region='Sub-Saharan Africa', sales_channel='Offline', total_profit=202694.40625, units_sold=2760)\n",
      "Row(order_id='485070693', country='Haiti', item_type='Office Supplies', order_date='12/31/2010', region='Central America and the Caribbean', sales_channel='Online', total_profit=259065.0, units_sold=2052)\n",
      "Row(order_id='520480573', country='Indonesia', item_type='Household', order_date='9/28/2011', region='Asia', sales_channel='Online', total_profit=103249.7890625, units_sold=623)\n",
      "Row(order_id='314505374', country='Vietnam', item_type='Personal Care', order_date='4/4/2010', region='Asia', sales_channel='Online', total_profit=200079.046875, units_sold=7984)\n",
      "Row(order_id='601245963', country='Ghana', item_type='Office Supplies', order_date='3/23/2017', region='Sub-Saharan Africa', sales_channel='Online', total_profit=113120.0, units_sold=896)\n",
      "Row(order_id='494570004', country='Madagascar', item_type='Clothes', order_date='10/17/2016', region='Sub-Saharan Africa', sales_channel='Online', total_profit=228398.40625, units_sold=3110)\n",
      "Row(order_id='101328551', country='Solomon Islands', item_type='Household', order_date='12/17/2010', region='Australia and Oceania', sales_channel='Online', total_profit=700209.25, units_sold=4225)\n",
      "Row(order_id='830410039', country='Switzerland', item_type='Office Supplies', order_date='7/29/2014', region='Europe', sales_channel='Offline', total_profit=711923.75, units_sold=5639)\n",
      "Row(order_id='104191863', country='Albania', item_type='Personal Care', order_date='2/6/2016', region='Europe', sales_channel='Offline', total_profit=38667.578125, units_sold=1543)\n",
      "Row(order_id='642134416', country='Finland', item_type='Vegetables', order_date='10/9/2012', region='Europe', sales_channel='Offline', total_profit=44064.73828125, units_sold=698)\n",
      "Row(order_id='699160754', country='Rwanda', item_type='Fruits', order_date='9/5/2012', region='Sub-Saharan Africa', sales_channel='Online', total_profit=14602.1904296875, units_sold=6059)\n",
      "Row(order_id='116205585', country='Turkmenistan', item_type='Vegetables', order_date='4/13/2015', region='Asia', sales_channel='Online', total_profit=421077.09375, units_sold=6670)\n",
      "Row(order_id='156530129', country='Tanzania', item_type='Fruits', order_date='10/20/2014', region='Sub-Saharan Africa', sales_channel='Offline', total_profit=23133.58984375, units_sold=9599)\n",
      "Row(order_id='791778934', country='Ghana', item_type='Clothes', order_date='11/2/2011', region='Sub-Saharan Africa', sales_channel='Online', total_profit=281715.84375, units_sold=3836)\n",
      "Row(order_id='902511680', country='Montenegro', item_type='Clothes', order_date='9/4/2016', region='Europe', sales_channel='Offline', total_profit=155472.484375, units_sold=2117)\n",
      "Row(order_id='180908620', country='Moldova ', item_type='Fruits', order_date='1/27/2013', region='Europe', sales_channel='Online', total_profit=9003.759765625, units_sold=3736)\n",
      "Row(order_id='371502530', country='Israel', item_type='Beverages', order_date='9/8/2013', region='Middle East and North Africa', sales_channel='Offline', total_profit=73742.9375, units_sold=4709)\n",
      "Row(order_id='343752610', country='Nicaragua', item_type='Baby Food', order_date='11/11/2016', region='Central America and the Caribbean', sales_channel='Online', total_profit=277131.25, units_sold=2891)\n",
      "Row(order_id='647164094', country='Papua New Guinea', item_type='Clothes', order_date='6/20/2011', region='Australia and Oceania', sales_channel='Offline', total_profit=667716.5, units_sold=9092)\n",
      "Row(order_id='739008080', country='Tanzania', item_type='Cosmetics', order_date='5/23/2016', region='Sub-Saharan Africa', sales_channel='Offline', total_profit=1350622.125, units_sold=7768)\n",
      "Row(order_id='252889239', country='Thailand', item_type='Meat', order_date='2/4/2015', region='Asia', sales_channel='Online', total_profit=251737.203125, units_sold=4401)\n",
      "Row(order_id='274930989', country='Dominica', item_type='Household', order_date='11/19/2011', region='Central America and the Caribbean', sales_channel='Offline', total_profit=1167402.125, units_sold=7044)\n",
      "Row(order_id='198927056', country='China', item_type='Office Supplies', order_date='2/10/2016', region='Asia', sales_channel='Online', total_profit=731113.75, units_sold=5791)\n",
      "Row(order_id='443368995', country='South Africa', item_type='Fruits', order_date='7/27/2012', region='Sub-Saharan Africa', sales_channel='Offline', total_profit=3839.1298828125, units_sold=1593)\n",
      "Row(order_id='572335612', country='Vanuatu', item_type='Cereal', order_date='6/20/2014', region='Australia and Oceania', sales_channel='Offline', total_profit=503279.78125, units_sold=5681)\n",
      "Row(order_id='539471471', country='Uganda', item_type='Personal Care', order_date='6/19/2014', region='Sub-Saharan Africa', sales_channel='Online', total_profit=11302.0595703125, units_sold=451)\n",
      "Row(order_id='153842341', country='Brunei', item_type='Cereal', order_date='5/28/2013', region='Asia', sales_channel='Offline', total_profit=374026.96875, units_sold=4222)\n",
      "Row(order_id='678230941', country='Iceland', item_type='Baby Food', order_date='10/2/2010', region='Europe', sales_channel='Offline', total_profit=236007.3125, units_sold=2462)\n",
      "Row(order_id='752525556', country='Albania', item_type='Baby Food', order_date='7/19/2012', region='Europe', sales_channel='Offline', total_profit=756335.375, units_sold=7890)\n",
      "Row(order_id='440306556', country='India', item_type='Snacks', order_date='10/10/2012', region='Asia', sales_channel='Online', total_profit=294943.875, units_sold=5349)\n",
      "Row(order_id='953361213', country='Zimbabwe', item_type='Office Supplies', order_date='3/28/2011', region='Sub-Saharan Africa', sales_channel='Offline', total_profit=1214903.75, units_sold=9623)\n",
      "Row(order_id='659878194', country='Tanzania', item_type='Beverages', order_date='11/30/2016', region='Sub-Saharan Africa', sales_channel='Online', total_profit=23114.16015625, units_sold=1476)\n",
      "Row(order_id='830192887', country='Sri Lanka', item_type='Fruits', order_date='11/7/2011', region='Asia', sales_channel='Online', total_profit=3323.389892578125, units_sold=1379)\n",
      "Row(order_id='747796285', country='Japan', item_type='Household', order_date='7/16/2014', region='Asia', sales_channel='Offline', total_profit=1390971.875, units_sold=8393)\n",
      "Row(order_id='190777862', country='United States of America', item_type='Personal Care', order_date='1/21/2016', region='North America', sales_channel='Online', total_profit=106855.84375, units_sold=4264)\n",
      "Row(order_id='315402734', country='Belize', item_type='Personal Care', order_date='6/14/2015', region='Central America and the Caribbean', sales_channel='Online', total_profit=88536.9765625, units_sold=3533)\n",
      "Row(order_id='324669444', country='France', item_type='Cosmetics', order_date='12/7/2015', region='Europe', sales_channel='Online', total_profit=1001143.4375, units_sold=5758)\n",
      "Row(order_id='937431466', country='Samoa ', item_type='Household', order_date='12/5/2016', region='Australia and Oceania', sales_channel='Online', total_profit=937534.625, units_sold=5657)\n",
      "Row(order_id='882908809', country='Egypt', item_type='Clothes', order_date='8/9/2016', region='Middle East and North Africa', sales_channel='Online', total_profit=87540.4765625, units_sold=1192)\n",
      "Row(order_id='479969346', country='Tunisia ', item_type='Cosmetics', order_date='7/1/2012', region='Middle East and North Africa', sales_channel='Offline', total_profit=425981.5, units_sold=2450)\n",
      "Row(order_id='425418365', country='United Arab Emirates', item_type='Office Supplies', order_date='6/23/2012', region='Middle East and North Africa', sales_channel='Online', total_profit=1212378.75, units_sold=9603)\n",
      "Row(order_id='265081918', country='Sweden', item_type='Beverages', order_date='9/13/2012', region='Europe', sales_channel='Online', total_profit=38915.1015625, units_sold=2485)\n",
      "Row(order_id='349235904', country='Mauritius ', item_type='Clothes', order_date='11/17/2012', region='Sub-Saharan Africa', sales_channel='Offline', total_profit=405388.8125, units_sold=5520)\n",
      "Row(order_id='732588374', country='Taiwan', item_type='Fruits', order_date='2/9/2014', region='Asia', sales_channel='Offline', total_profit=19361.939453125, units_sold=8034)\n",
      "Row(order_id='835696351', country='Estonia', item_type='Household', order_date='9/1/2011', region='Europe', sales_channel='Offline', total_profit=1653322.5, units_sold=9976)\n",
      "Row(order_id='179137074', country='Nepal', item_type='Meat', order_date='2/21/2014', region='Asia', sales_channel='Online', total_profit=543171.1875, units_sold=9496)\n",
      "Row(order_id='358570849', country='Oman', item_type='Cosmetics', order_date='11/29/2010', region='Middle East and North Africa', sales_channel='Online', total_profit=1380006.25, units_sold=7937)\n",
      "Row(order_id='797385394', country='Italy', item_type='Office Supplies', order_date='3/29/2011', region='Europe', sales_channel='Online', total_profit=367766.25, units_sold=2913)\n",
      "Row(order_id='862861335', country='The Gambia', item_type='Fruits', order_date='11/20/2011', region='Sub-Saharan Africa', sales_channel='Online', total_profit=20964.58984375, units_sold=8699)\n",
      "Row(order_id='222504317', country='Belgium', item_type='Personal Care', order_date='11/1/2011', region='Europe', sales_channel='Online', total_profit=70844.6171875, units_sold=2827)\n",
      "Row(order_id='450544869', country='Malawi', item_type='Meat', order_date='3/1/2016', region='Sub-Saharan Africa', sales_channel='Offline', total_profit=291376.8125, units_sold=5094)\n",
      "Row(order_id='584356629', country='Democratic Republic of the Congo', item_type='Cosmetics', order_date='10/7/2012', region='Sub-Saharan Africa', sales_channel='Online', total_profit=515872.28125, units_sold=2967)\n",
      "Row(order_id='842238795', country='Uganda', item_type='Cosmetics', order_date='2/28/2015', region='Sub-Saharan Africa', sales_channel='Online', total_profit=1048610.0, units_sold=6031)\n",
      "Row(order_id='286891067', country='Antigua and Barbuda ', item_type='Office Supplies', order_date='10/2/2011', region='Central America and the Caribbean', sales_channel='Offline', total_profit=794996.25, units_sold=6297)\n",
      "Row(order_id='633134210', country='Romania', item_type='Cereal', order_date='4/16/2015', region='Europe', sales_channel='Online', total_profit=649984.8125, units_sold=7337)\n",
      "Row(order_id='839094388', country='Tonga', item_type='Baby Food', order_date='5/11/2016', region='Australia and Oceania', sales_channel='Online', total_profit=530201.6875, units_sold=5531)\n",
      "Row(order_id='940995585', country='Papua New Guinea', item_type='Meat', order_date='5/15/2015', region='Australia and Oceania', sales_channel='Offline', total_profit=20592.0, units_sold=360)\n",
      "Row(order_id='368977391', country='Canada', item_type='Cosmetics', order_date='5/9/2011', region='North America', sales_channel='Online', total_profit=1297765.625, units_sold=7464)\n",
      "Row(order_id='807785928', country='Ethiopia', item_type='Cosmetics', order_date='7/7/2011', region='Sub-Saharan Africa', sales_channel='Online', total_profit=115101.9375, units_sold=662)\n",
      "Row(order_id='731120240', country='Saint Lucia', item_type='Fruits', order_date='12/12/2015', region='Central America and the Caribbean', sales_channel='Offline', total_profit=8630.2099609375, units_sold=3581)\n",
      "Row(order_id='496523940', country='Ghana', item_type='Fruits', order_date='5/29/2016', region='Sub-Saharan Africa', sales_channel='Offline', total_profit=3188.429931640625, units_sold=1323)\n",
      "Row(order_id='573998582', country='Nicaragua', item_type='Household', order_date='10/28/2015', region='Central America and the Caribbean', sales_channel='Online', total_profit=1291202.375, units_sold=7791)\n",
      "Row(order_id='704205024', country='Lebanon', item_type='Meat', order_date='3/8/2017', region='Middle East and North Africa', sales_channel='Online', total_profit=501644.0, units_sold=8770)\n",
      "Row(order_id='174590194', country='Slovakia', item_type='Beverages', order_date='10/26/2016', region='Europe', sales_channel='Offline', total_profit=62217.1796875, units_sold=3973)\n",
      "Row(order_id='710296428', country='Kazakhstan', item_type='Snacks', order_date='9/8/2013', region='Asia', sales_channel='Online', total_profit=74549.28125, units_sold=1352)\n",
      "Row(order_id='955894076', country='Malaysia', item_type='Beverages', order_date='11/13/2014', region='Asia', sales_channel='Online', total_profit=143351.640625, units_sold=9154)\n",
      "Row(order_id='726137769', country='Czech Republic', item_type='Cosmetics', order_date='3/22/2014', region='Europe', sales_channel='Online', total_profit=1592127.625, units_sold=9157)\n",
      "Row(order_id='297876536', country='South Korea', item_type='Meat', order_date='3/16/2016', region='Asia', sales_channel='Offline', total_profit=408465.1875, units_sold=7141)\n"
     ]
    }
   ],
   "source": [
    "rows = session.execute(\"SELECT * FROM silver_sales\")\n",
    "for row in rows:\n",
    "    print(row)\n"
   ]
  },
  {
   "cell_type": "markdown",
   "metadata": {
    "id": "jAKFopfaUFcD"
   },
   "source": [
    "gold table"
   ]
  },
  {
   "cell_type": "markdown",
   "metadata": {
    "id": "I2dtxKzrUMLu"
   },
   "source": [
    "Profit by Region:"
   ]
  },
  {
   "cell_type": "code",
   "execution_count": null,
   "metadata": {
    "colab": {
     "base_uri": "https://localhost:8080/"
    },
    "id": "OKULQA5DT-xV",
    "outputId": "7ad9ce84-2d46-42de-87b4-6897ac2bc921"
   },
   "outputs": [
    {
     "name": "stdout",
     "output_type": "stream",
     "text": [
      "Row(region='Australia and Oceania', total_profit=3486940.0)\n",
      "Row(region='Europe', total_profit=11267281.0)\n",
      "Row(region='Middle East and North Africa', total_profit=6514261.5)\n",
      "Row(region='Central America and the Caribbean', total_profit=4252300.0)\n",
      "Row(region='Asia', total_profit=6749896.0)\n",
      "Row(region='Sub-Saharan Africa', total_profit=7651892.0)\n",
      "Row(region='North America', total_profit=1404621.5)\n"
     ]
    }
   ],
   "source": [
    "rows = session.execute(\"SELECT * FROM gold_profit_by_region\")\n",
    "for row in rows:\n",
    "    print(row)\n"
   ]
  },
  {
   "cell_type": "markdown",
   "metadata": {
    "id": "l2-WaMB7USab"
   },
   "source": [
    "Units Sold by Item Type:"
   ]
  },
  {
   "cell_type": "code",
   "execution_count": null,
   "metadata": {
    "colab": {
     "base_uri": "https://localhost:8080/"
    },
    "id": "29n4-5lIUQRu",
    "outputId": "a93677db-c3ad-4273-a950-ed67bf796955"
   },
   "outputs": [
    {
     "name": "stdout",
     "output_type": "stream",
     "text": [
      "Row(item_type='Household', total_units_sold=57640)\n",
      "Row(item_type='Office Supplies', total_units_sold=42814)\n",
      "Row(item_type='Vegetables', total_units_sold=7368)\n",
      "Row(item_type='Snacks', total_units_sold=14377)\n",
      "Row(item_type='Personal Care', total_units_sold=39045)\n",
      "Row(item_type='Meat', total_units_sold=50437)\n",
      "Row(item_type='Fruits', total_units_sold=65920)\n",
      "Row(item_type='Beverages', total_units_sold=45206)\n",
      "Row(item_type='Cereal', total_units_sold=45776)\n",
      "Row(item_type='Cosmetics', total_units_sold=65707)\n",
      "Row(item_type='Baby Food', total_units_sold=20372)\n",
      "Row(item_type='Clothes', total_units_sold=40148)\n"
     ]
    }
   ],
   "source": [
    "rows = session.execute(\"SELECT * FROM gold_units_by_item\")\n",
    "for row in rows:\n",
    "    print(row)\n"
   ]
  },
  {
   "cell_type": "markdown",
   "metadata": {
    "id": "uQR-EBE2Ua2K"
   },
   "source": [
    "Profit by Region and Item Type:"
   ]
  },
  {
   "cell_type": "code",
   "execution_count": null,
   "metadata": {
    "colab": {
     "base_uri": "https://localhost:8080/"
    },
    "id": "1PGfmQKoUWwP",
    "outputId": "8b8e4773-df27-463c-bce3-43b8db44ef51"
   },
   "outputs": [
    {
     "name": "stdout",
     "output_type": "stream",
     "text": [
      "Row(region='Australia and Oceania', item_type='Baby Food', total_profit=530201.6875)\n",
      "Row(region='Australia and Oceania', item_type='Beverages', total_profit=90640.078125)\n",
      "Row(region='Australia and Oceania', item_type='Cereal', total_profit=526224.625)\n",
      "Row(region='Australia and Oceania', item_type='Clothes', total_profit=667716.5)\n",
      "Row(region='Australia and Oceania', item_type='Fruits', total_profit=13821.349609375)\n",
      "Row(region='Australia and Oceania', item_type='Household', total_profit=1637743.875)\n",
      "Row(region='Australia and Oceania', item_type='Meat', total_profit=20592.0)\n",
      "Row(region='Europe', item_type='Baby Food', total_profit=992342.75)\n",
      "Row(region='Europe', item_type='Beverages', total_profit=213727.6875)\n",
      "Row(region='Europe', item_type='Cereal', total_profit=2322564.0)\n",
      "Row(region='Europe', item_type='Clothes', total_profit=695109.625)\n",
      "Row(region='Europe', item_type='Cosmetics', total_profit=2773748.0)\n",
      "Row(region='Europe', item_type='Fruits', total_profit=32831.4296875)\n",
      "Row(region='Europe', item_type='Household', total_profit=3003690.5)\n",
      "Row(region='Europe', item_type='Office Supplies', total_profit=1079690.0)\n",
      "Row(region='Europe', item_type='Personal Care', total_profit=109512.203125)\n",
      "Row(region='Europe', item_type='Vegetables', total_profit=44064.73828125)\n",
      "Row(region='Middle East and North Africa', item_type='Beverages', total_profit=73742.9375)\n",
      "Row(region='Middle East and North Africa', item_type='Clothes', total_profit=426172.3125)\n",
      "Row(region='Middle East and North Africa', item_type='Cosmetics', total_profit=3487136.75)\n",
      "Row(region='Middle East and North Africa', item_type='Household', total_profit=242960.1875)\n",
      "Row(region='Middle East and North Africa', item_type='Meat', total_profit=1071870.75)\n",
      "Row(region='Middle East and North Africa', item_type='Office Supplies', total_profit=1212378.75)\n",
      "Row(region='Central America and the Caribbean', item_type='Baby Food', total_profit=303396.90625)\n",
      "Row(region='Central America and the Caribbean', item_type='Beverages', total_profit=98673.65625)\n",
      "Row(region='Central America and the Caribbean', item_type='Fruits', total_profit=20053.609375)\n",
      "Row(region='Central America and the Caribbean', item_type='Household', total_profit=2458604.5)\n",
      "Row(region='Central America and the Caribbean', item_type='Office Supplies', total_profit=1054061.25)\n",
      "Row(region='Central America and the Caribbean', item_type='Personal Care', total_profit=317510.1875)\n",
      "Row(region='Asia', item_type='Beverages', total_profit=143351.640625)\n",
      "Row(region='Asia', item_type='Cereal', total_profit=1206507.25)\n",
      "Row(region='Asia', item_type='Fruits', total_profit=26432.880859375)\n",
      "Row(region='Asia', item_type='Household', total_profit=1494221.625)\n",
      "Row(region='Asia', item_type='Meat', total_profit=1501156.75)\n",
      "Row(region='Asia', item_type='Office Supplies', total_profit=731113.75)\n",
      "Row(region='Asia', item_type='Personal Care', total_profit=433287.40625)\n",
      "Row(region='Asia', item_type='Snacks', total_profit=792747.75)\n",
      "Row(region='Asia', item_type='Vegetables', total_profit=421077.09375)\n",
      "Row(region='Sub-Saharan Africa', item_type='Baby Food', total_profit=126918.640625)\n",
      "Row(region='Sub-Saharan Africa', item_type='Beverages', total_profit=87789.9609375)\n",
      "Row(region='Sub-Saharan Africa', item_type='Clothes', total_profit=1159470.75)\n",
      "Row(region='Sub-Saharan Africa', item_type='Cosmetics', total_profit=3865825.5)\n",
      "Row(region='Sub-Saharan Africa', item_type='Fruits', total_profit=65727.9296875)\n",
      "Row(region='Sub-Saharan Africa', item_type='Household', total_profit=715456.4375)\n",
      "Row(region='Sub-Saharan Africa', item_type='Meat', total_profit=291376.8125)\n",
      "Row(region='Sub-Saharan Africa', item_type='Office Supplies', total_profit=1328023.75)\n",
      "Row(region='Sub-Saharan Africa', item_type='Personal Care', total_profit=11302.0595703125)\n",
      "Row(region='North America', item_type='Cosmetics', total_profit=1297765.625)\n",
      "Row(region='North America', item_type='Personal Care', total_profit=106855.84375)\n"
     ]
    }
   ],
   "source": [
    "rows = session.execute(\"SELECT * FROM gold_profit_by_region_item\")\n",
    "for row in rows:\n",
    "    print(row)\n"
   ]
  },
  {
   "cell_type": "code",
   "execution_count": null,
   "metadata": {
    "id": "DK4x_4ONUdED"
   },
   "outputs": [],
   "source": []
  }
 ],
 "metadata": {
  "colab": {
   "provenance": []
  },
  "kernelspec": {
   "display_name": "Python 3",
   "name": "python3"
  },
  "language_info": {
   "name": "python"
  }
 },
 "nbformat": 4,
 "nbformat_minor": 0
}
